{
 "cells": [
  {
   "cell_type": "code",
   "execution_count": 1,
   "id": "26b40d4f",
   "metadata": {},
   "outputs": [
    {
     "name": "stdout",
     "output_type": "stream",
     "text": [
      "Collecting lxml\n",
      "  Downloading lxml-5.2.1-cp37-cp37m-win_amd64.whl (3.8 MB)\n",
      "     ---------------------------------------- 3.8/3.8 MB 10.5 MB/s eta 0:00:00\n",
      "Collecting fuzzywuzzy\n",
      "  Downloading fuzzywuzzy-0.18.0-py2.py3-none-any.whl (18 kB)\n",
      "Collecting python-Levenshtein\n",
      "  Downloading python_Levenshtein-0.23.0-py3-none-any.whl (9.4 kB)\n",
      "Collecting Levenshtein==0.23.0\n",
      "  Downloading Levenshtein-0.23.0-cp37-cp37m-win_amd64.whl (101 kB)\n",
      "     -------------------------------------- 101.6/101.6 kB 5.7 MB/s eta 0:00:00\n",
      "Collecting rapidfuzz<4.0.0,>=3.1.0\n",
      "  Downloading rapidfuzz-3.4.0-cp37-cp37m-win_amd64.whl (1.8 MB)\n",
      "     ---------------------------------------- 1.8/1.8 MB 752.3 kB/s eta 0:00:00\n",
      "Installing collected packages: fuzzywuzzy, rapidfuzz, lxml, Levenshtein, python-Levenshtein\n",
      "Successfully installed Levenshtein-0.23.0 fuzzywuzzy-0.18.0 lxml-5.2.1 python-Levenshtein-0.23.0 rapidfuzz-3.4.0\n"
     ]
    }
   ],
   "source": [
    "!pip install lxml fuzzywuzzy python-Levenshtein"
   ]
  },
  {
   "cell_type": "code",
   "execution_count": 7,
   "id": "1e3bc870",
   "metadata": {},
   "outputs": [
    {
     "name": "stdout",
     "output_type": "stream",
     "text": [
      "Output saved to: dataset/text_extraction_output.txt\n"
     ]
    }
   ],
   "source": [
    "import xml.etree.ElementTree as ET\n",
    "import os\n",
    "\n",
    "# Define the output file path\n",
    "output_file = \"dataset/text_extraction_output.txt\"\n",
    "\n",
    "# Load the OCR text files\n",
    "txt_dir = \"dataset/ocr_outputs/\"\n",
    "ocr_texts = {}\n",
    "for file_name in os.listdir(txt_dir):\n",
    "    if file_name.endswith(\".txt\"):\n",
    "        with open(os.path.join(txt_dir, file_name), \"r\") as file:\n",
    "            image_id = os.path.splitext(file_name)[0]  # Extract image ID from file name\n",
    "            ocr_texts[image_id] = file.read()\n",
    "\n",
    "# Load the XML file containing annotations\n",
    "xml_file = \"dataset/annotations.xml\"\n",
    "tree = ET.parse(xml_file)\n",
    "root = tree.getroot()\n",
    "\n",
    "# Extract annotations for each image\n",
    "annotations = {}\n",
    "for image in root.findall(\".//image\"):\n",
    "    image_id = image.get(\"id\")\n",
    "    annotations[image_id] = {}\n",
    "    for box in image.findall(\".//box\"):\n",
    "        label = box.get(\"label\")\n",
    "        text = box.find(\"attribute\").text.strip() if box.find(\"attribute\") is not None else \"\"\n",
    "        annotations[image_id][label] = text\n",
    "\n",
    "# Write the output to the file\n",
    "with open(output_file, \"w\") as f:\n",
    "    for image_id, annotation in annotations.items():\n",
    "        f.write(f\"Image ID: {image_id}\\n\")\n",
    "        f.write(\"OCR Text:\\n\")\n",
    "        f.write(ocr_texts.get(image_id, \"No OCR text found\"))\n",
    "        f.write(\"\\nAnnotations:\\n\")\n",
    "        f.write(str(annotation))\n",
    "        f.write(\"\\n\\n\")\n",
    "\n",
    "print(\"Output saved to:\", output_file)\n"
   ]
  }
 ],
 "metadata": {
  "kernelspec": {
   "display_name": "Python 3 (ipykernel)",
   "language": "python",
   "name": "python3"
  },
  "language_info": {
   "codemirror_mode": {
    "name": "ipython",
    "version": 3
   },
   "file_extension": ".py",
   "mimetype": "text/x-python",
   "name": "python",
   "nbconvert_exporter": "python",
   "pygments_lexer": "ipython3",
   "version": "3.11.5"
  }
 },
 "nbformat": 4,
 "nbformat_minor": 5
}
